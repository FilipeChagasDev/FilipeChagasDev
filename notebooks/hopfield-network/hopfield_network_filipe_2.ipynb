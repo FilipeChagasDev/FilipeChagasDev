{
 "cells": [
  {
   "cell_type": "markdown",
   "id": "75ceef68",
   "metadata": {},
   "source": [
    "# Remembering handwritten digits with a Hopfield Network\n",
    "**Filipe Chagas Ferraz**\n",
    "\n",
    "## Introduction\n",
    "\n",
    "**Hopfield Networks** are a type of recurrent neural network that function as associative memory systems, with the key ability to store stable patterns that can be retrieved from partial or noisy inputs. Invented by John Hopfield in 1982, these networks consist of binary nodes (neurons) that are symmetrically connected, meaning the weight between two neurons is the same in both directions.\n",
    "\n",
    "The dynamics of a Hopfield Network are based on minimizing an energy function, which drives the system to a stable state (a local minimum in energy), corresponding to one of the stored patterns. They are useful for tasks like pattern recognition and solving combinatorial optimization problems. However, they have limitations in terms of storage capacity and can fall into spurious states (unrelated to stored patterns), especially when overloaded with too many patterns.\n",
    "\n",
    "## Structure\n",
    "\n",
    "| ![](https://media.geeksforgeeks.org/wp-content/uploads/20240313133541/Discrete-Hopfield-Network.webp) |\n",
    "|---|\n",
    "| Fig. 1 - structure of the Hopfield Network.|\n",
    "\n",
    "In the fig 1, each $x_i$ represents a neuron with a binary state (1 or -1), and each $y_i \\in \\{-1,1\\}$ is the corresponding output that indicates the state of $x_i$. For each pair of different neurons $(x_i, x_j)$, there is a connection weight $w_{i,j}$. These weights are calculated using the Hebbian Learning Rule.\n",
    "\n",
    "## Experiment\n",
    "\n",
    "In this experiment, a Hopfield Network will be trained to remember handwritten digits (MNIST dataset).\n",
    "\n",
    "--- \n",
    "\n",
    "## Code\n",
    "\n",
    "Importing libs..."
   ]
  },
  {
   "cell_type": "code",
   "execution_count": 1,
   "id": "3884c137",
   "metadata": {},
   "outputs": [],
   "source": [
    "import numpy as np\n",
    "from sklearn.datasets import fetch_openml\n",
    "import matplotlib.pyplot as plt\n",
    "from matplotlib.animation import FuncAnimation\n",
    "from IPython.display import HTML"
   ]
  },
  {
   "cell_type": "markdown",
   "id": "d1e629fb",
   "metadata": {},
   "source": [
    "Loading data..."
   ]
  },
  {
   "cell_type": "code",
   "execution_count": 2,
   "id": "81dbdf6f",
   "metadata": {},
   "outputs": [],
   "source": [
    "mnist = fetch_openml('mnist_784', version=1, as_frame=False)\n",
    "x = mnist['data'].reshape(-1, 28, 28)\n",
    "y = mnist['target'].astype(int)"
   ]
  },
  {
   "cell_type": "markdown",
   "id": "a9f99afa",
   "metadata": {},
   "source": [
    "Preprocessing and previewing the data..."
   ]
  },
  {
   "cell_type": "code",
   "execution_count": 3,
   "id": "dbf37604",
   "metadata": {},
   "outputs": [
    {
     "data": {
      "image/png": "[encoded data removed]",
      "text/plain": [
       "<Figure size 640x480 with 2 Axes>"
      ]
     },
     "metadata": {},
     "output_type": "display_data"
    }
   ],
   "source": [
    "# --- Data pre-processing ---\n",
    "patterns = [] # List of patterns to learn\n",
    "for number in range(10):\n",
    "    # Select a single image for each number in {0,1,...,9}\n",
    "    for i in range(y.shape[0]):\n",
    "        if number == y[i]:\n",
    "            img = x[i]\n",
    "            img = img.astype(float)\n",
    "            img /= np.max(img)\n",
    "            img -= 0.5\n",
    "            img = np.sign(img) #binarize pixels (-1 or 1)\n",
    "            patterns.append(img)\n",
    "            break\n",
    "\n",
    "# Preview\n",
    "plt.imshow(np.hstack(patterns), cmap='gray')\n",
    "plt.colorbar(location='bottom')\n",
    "plt.show()"
   ]
  },
  {
   "cell_type": "markdown",
   "id": "1f2c3271",
   "metadata": {},
   "source": [
    "In the next cell, a function ``get_hopfield_matrix`` is defined to return a matrix $W$ with all the network weights calculated using the Hebbian rule for a single pattern (handwritten digit image). This matrix is computed as:\n",
    "\n",
    "$$W = (O-I) \\odot p \\times p^T$$\n",
    "\n",
    "where $p$ is a column vector with all the binary pixels of the image, $O$ is a square matrix filled with ones, $I$ is an indentity matrix, and $\\odot$ is an element-wise product operator. Each entry of $W$ is defined as:\n",
    "\n",
    "$$W_{i,j} = \\begin{cases}p_i p_j, \\quad i\\neq j\\\\ 0, \\quad i=j\\end{cases}$$"
   ]
  },
  {
   "cell_type": "code",
   "execution_count": 4,
   "id": "72c50816",
   "metadata": {},
   "outputs": [
    {
     "data": {
      "text/plain": [
       "array([[0., 1., 1., ..., 1., 1., 1.],\n",
       "       [1., 0., 1., ..., 1., 1., 1.],\n",
       "       [1., 1., 0., ..., 1., 1., 1.],\n",
       "       ...,\n",
       "       [1., 1., 1., ..., 0., 1., 1.],\n",
       "       [1., 1., 1., ..., 1., 0., 1.],\n",
       "       [1., 1., 1., ..., 1., 1., 0.]], shape=(784, 784))"
      ]
     },
     "execution_count": 4,
     "metadata": {},
     "output_type": "execute_result"
    }
   ],
   "source": [
    "def get_hopfield_matrix(pattern):\n",
    "    # Returns a matrix with the weights of the Hopfield Net\n",
    "    pvec = np.expand_dims(pattern.flatten(), axis=1) # Convert image to column vector\n",
    "    mat = np.matmul(pvec, pvec.T) # External product\n",
    "    np.fill_diagonal(mat, 0) # Set all diag entries to 0\n",
    "    return mat\n",
    "\n",
    "# Test\n",
    "hm = get_hopfield_matrix(patterns[0])\n",
    "hm"
   ]
  },
  {
   "cell_type": "markdown",
   "id": "86005895",
   "metadata": {},
   "source": [
    "In the next cell, a function ``update_hopfield_state`` is defined. This function simulate a discrete step in the temporal evolution of neuron states during the process of recalling a learned pattern. This state change is defined as:\n",
    "\n",
    "$$x_i' = \\text{sign}\\left(\\sum_{j} W_{i,j} x_j\\right)$$\n",
    "\n",
    "where $i$ is a random neuron index and $x_i'$ is the updated state of the i-th neuron."
   ]
  },
  {
   "cell_type": "code",
   "execution_count": 5,
   "id": "53b2e462",
   "metadata": {},
   "outputs": [],
   "source": [
    "def update_hopfield_state(curr_state, hopfield_matrix):\n",
    "    # Update a random neurom and return the updated network stated\n",
    "    new_state = curr_state.copy()\n",
    "    i = np.random.randint(0, curr_state.shape[0])\n",
    "    new_state[i] = np.sign(curr_state.dot(hopfield_matrix[i, :]))\n",
    "    return new_state"
   ]
  },
  {
   "cell_type": "markdown",
   "id": "75fba0ef",
   "metadata": {},
   "source": [
    "In the next cell, a function to calculate the network energy is defined. This energy is defined as:\n",
    "\n",
    "$$E = -\\frac{1}{2}\\sum_{i}\\sum_{j} W_{i,j}x_i x_j$$\n",
    "\n",
    "or, in matrix form (with $x$ as a column vector):\n",
    "\n",
    "$$E = - \\frac{1}{2} x^T W x$$"
   ]
  },
  {
   "cell_type": "code",
   "execution_count": 6,
   "id": "b162cbfc",
   "metadata": {},
   "outputs": [
    {
     "data": {
      "text/plain": [
       "np.float64(264.0)"
      ]
     },
     "execution_count": 6,
     "metadata": {},
     "output_type": "execute_result"
    }
   ],
   "source": [
    "def hopfield_net_energy(curr_state, hopfield_matrix):\n",
    "    # Returns the energy of a given network state\n",
    "    pvec = np.expand_dims(curr_state, axis=1)\n",
    "    return -(1/2)*np.matmul(pvec.T, np.matmul(hopfield_matrix, pvec))[0,0]\n",
    "\n",
    "# Test\n",
    "hopfield_net_energy(np.sign(np.random.random(28**2)-0.5), hm)"
   ]
  },
  {
   "cell_type": "markdown",
   "id": "f17eb9ac",
   "metadata": {},
   "source": [
    "In the next cell, the HN recall process is simulated once for each digit from 0 to 9."
   ]
  },
  {
   "cell_type": "code",
   "execution_count": 7,
   "id": "8552891b",
   "metadata": {},
   "outputs": [
    {
     "name": "stdout",
     "output_type": "stream",
     "text": [
      "Processing number 0...\n",
      "Processing number 1...\n",
      "Processing number 2...\n",
      "Processing number 3...\n",
      "Processing number 4...\n",
      "Processing number 5...\n",
      "Processing number 6...\n",
      "Processing number 7...\n",
      "Processing number 8...\n",
      "Processing number 9...\n"
     ]
    }
   ],
   "source": [
    "# --- Simulation ---\n",
    "\n",
    "n_neurons = patterns[0].shape[0]*patterns[0].shape[1] # Number of neurons\n",
    "im_shape = patterns[0].shape # Image shape\n",
    "n_steps = 3000 # Number of update steps\n",
    "\n",
    "lists = dict() # Dict of results\n",
    "\n",
    "for number in range(10): # For each number to remember\n",
    "    print(f'Processing number {number}...')\n",
    "    im_list = [] # Temporal evolution of network states as images\n",
    "    en_list = [] # Temporal evolution of network energy\n",
    "    pattern = patterns[number] # Current learned pattern\n",
    "    hm = get_hopfield_matrix(pattern) # Matrix with the weights of the network\n",
    "\n",
    "    state = np.sign(np.random.random(n_neurons)-1/2) # Current network state (initially random)\n",
    "    for step in range(n_steps):\n",
    "        state = update_hopfield_state(state, hm)\n",
    "        im_list.append(np.reshape(state, im_shape))\n",
    "        en_list.append(hopfield_net_energy(state, hm))\n",
    "\n",
    "    lists[number] = {\n",
    "        'im_list': im_list,\n",
    "        'en_list': en_list,\n",
    "        'pattern': pattern,\n",
    "        'hm': hm\n",
    "    }"
   ]
  },
  {
   "cell_type": "markdown",
   "id": "3b09bda0",
   "metadata": {},
   "source": [
    "The following cell plot the results as an animation."
   ]
  },
  {
   "cell_type": "code",
   "execution_count": 8,
   "id": "a67f3c43",
   "metadata": {},
   "outputs": [],
   "source": [
    "# --- Animated plot generation ---\n",
    "\n",
    "fig, ax = plt.subplots(ncols=2, nrows=2, figsize=(8,8), constrained_layout=True)\n",
    "fig.suptitle('Remembering handwritten digits with Hopfield Networks (by Filipe Chagas)')\n",
    "\n",
    "ax[0][0].set_title('Learned Pattern')\n",
    "ax[0][0].set_xlabel('j')\n",
    "ax[0][0].set_ylabel('i')\n",
    "lp_ax = ax[0][0].imshow(lists[0]['pattern'], cmap='gray')\n",
    "\n",
    "ax[0][1].set_title('Network Weights')\n",
    "ax[0][1].set_xlabel('j')\n",
    "ax[0][1].set_ylabel('i')\n",
    "hm_ax = ax[0][1].imshow(lists[0]['hm'])\n",
    "\n",
    "ax[1][0].set_title('Network State')\n",
    "ax[1][0].set_xlabel('j')\n",
    "ax[1][0].set_ylabel('i')\n",
    "state_ax = ax[1][0].imshow(im_list[0], cmap='gray')\n",
    "\n",
    "ax[1][1].set_title('Network Energy')\n",
    "ax[1][1].set_xlabel('Step')\n",
    "ax[1][1].set_ylabel('Value')\n",
    "en_ax, = ax[1][1].plot([], [])\n",
    "ax[1][1].grid()\n",
    "ax[1][1].axis([\n",
    "    0,\n",
    "    len(en_list),\n",
    "    np.min([lists[number]['en_list'][-1] for number in range(10)]),\n",
    "    np.max([lists[number]['en_list'][0] for number in range(10)])*2\n",
    "])\n",
    "\n",
    "fig.colorbar(hm_ax, location='right')\n",
    "fig.colorbar(state_ax, location='bottom')\n",
    "\n",
    "steps_per_frame = 50\n",
    "\n",
    "def animate(frame_i):\n",
    "    k = (frame_i * steps_per_frame) % n_steps\n",
    "    number = (frame_i * steps_per_frame) // n_steps\n",
    "\n",
    "    lp_ax.set_data(lists[number]['pattern'])\n",
    "    hm_ax.set_data(lists[number]['hm'])\n",
    "    state_ax.set_data(lists[number]['im_list'][k])\n",
    "    en_ax.set_data(np.arange(k), lists[number]['en_list'][:k])\n",
    "\n",
    "ani = FuncAnimation(fig, animate, frames=10*n_steps//steps_per_frame, interval=50)\n",
    "plt.close()"
   ]
  },
  {
   "cell_type": "code",
   "execution_count": 9,
   "id": "2f727022",
   "metadata": {},
   "outputs": [
    {
     "name": "stderr",
     "output_type": "stream",
     "text": [
      "MovieWriter ffmpeg unavailable; using Pillow instead.\n"
     ]
    }
   ],
   "source": [
    "ani.save('hopfield_network_filipe.gif')"
   ]
  },
  {
   "cell_type": "markdown",
   "id": "619cea5f",
   "metadata": {},
   "source": [
    "Result of **hopfield_network_filipe.gif**:\n",
    "\n",
    "![](hopfield_network_filipe.gif)"
   ]
  }
 ],
 "metadata": {
  "kernelspec": {
   "display_name": "Python 3",
   "language": "python",
   "name": "python3"
  },
  "language_info": {
   "codemirror_mode": {
    "name": "ipython",
    "version": 3
   },
   "file_extension": ".py",
   "mimetype": "text/x-python",
   "name": "python",
   "nbconvert_exporter": "python",
   "pygments_lexer": "ipython3",
   "version": "3.13.3"
  }
 },
 "nbformat": 4,
 "nbformat_minor": 5
}
